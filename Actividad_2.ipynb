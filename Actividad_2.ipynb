{
  "nbformat": 4,
  "nbformat_minor": 0,
  "metadata": {
    "colab": {
      "provenance": [],
      "toc_visible": true,
      "authorship_tag": "ABX9TyP0fXlK4XUXba8Q1jsqgt2n",
      "include_colab_link": true
    },
    "kernelspec": {
      "name": "python3",
      "display_name": "Python 3"
    },
    "language_info": {
      "name": "python"
    }
  },
  "cells": [
    {
      "cell_type": "markdown",
      "metadata": {
        "id": "view-in-github",
        "colab_type": "text"
      },
      "source": [
        "<a href=\"https://colab.research.google.com/github/Rolando-Vera-Dominguez/Clase-de-IA_FIME-N4_2024/blob/main/Actividad_2.ipynb\" target=\"_parent\"><img src=\"https://colab.research.google.com/assets/colab-badge.svg\" alt=\"Open In Colab\"/></a>"
      ]
    },
    {
      "cell_type": "code",
      "execution_count": null,
      "metadata": {
        "colab": {
          "base_uri": "https://localhost:8080/"
        },
        "id": "ax6MOJ5-JWLS",
        "outputId": "9a59d136-3bd3-44fc-9421-0508e10b59fe"
      },
      "outputs": [
        {
          "output_type": "stream",
          "name": "stdout",
          "text": [
            "Introduce tu nombre: Rolando\n",
            "Hola Rolando!\n"
          ]
        }
      ],
      "source": [
        "# \"Primer algoritmo\"\n",
        "# 1.- Desarrolla un algoritmo que le pida al usuario por su nombre\n",
        "# y que lo salude con su nombre, excepto si se llama “Ana”, “Juan”, y “Pedro”\n",
        "\n",
        "#Inicio\n",
        "Nombre = input(\"Introduce tu nombre: \")\n",
        "excluded_names = [\"Ana\",\"Juan\",\"Pedro\"]\n",
        "if Nombre not in excluded_names:\n",
        "   print(f\"Hola \" + Nombre + \"!\")\n",
        "   #Si se llama \"Ana, Juan o Pedro\" no lo saludara\n",
        "else:\n",
        "   print(\"Lo lamento pero no te puedo saludar :C\")\n"
      ]
    },
    {
      "cell_type": "code",
      "source": [
        "# \"Segundo algoritmo\"\n",
        "# 2.- Desarrolla un algoritmo que por medio de una función, le pida al usuario\n",
        "# una lista de N elementos y como resultado invierta el sentido de la lista.\n"
      ],
      "metadata": {
        "id": "8x9FM7-rNrxH"
      },
      "execution_count": null,
      "outputs": []
    },
    {
      "cell_type": "code",
      "source": [
        "# \"Tercer Algoritmo\"\n",
        "#Desarrolla un algoritmo que le pregunte al usuario cuántos números\n",
        "# de la serie de Fibonacci quiere generar y que al final los imprima."
      ],
      "metadata": {
        "id": "E0t_IEcdOO_J"
      },
      "execution_count": null,
      "outputs": []
    },
    {
      "cell_type": "code",
      "source": [
        "# \"Cuarto Algoritmo\"\n",
        "# Juego de adivinar el número: Crea un programa que genere un número aleatorio entre 1 y 100,\n",
        "# y luego le pida al usuario que adivine el número. El programa debe proporcionar pistas\n",
        "# al usuario si el número es mayor o menor que el número objetivo, y seguir solicitando\n",
        "# un nuevo intento hasta que el usuario adivine correctamente.\n",
        "\n"
      ],
      "metadata": {
        "id": "SvjEaqgAOadV"
      },
      "execution_count": null,
      "outputs": []
    },
    {
      "cell_type": "code",
      "source": [
        "# \"Quinto Algoritmo\"\n",
        "# Ejercicio de cálculo de números primos en un rango dado: Escribe un programa que solicite\n",
        "# al usuario un rango de números y muestre todos los números primos dentro de ese rango.\n"
      ],
      "metadata": {
        "id": "8S0iUfiiOu5U"
      },
      "execution_count": null,
      "outputs": []
    },
    {
      "cell_type": "code",
      "source": [
        "# \"Sexto Algoritmo\"\n",
        "# Ejercicio de implementación de una calculadora básica utilizando funciones:\n",
        "# Escribe un programa que solicite al usuario dos números y realice operaciones básicas\n",
        "# como suma, resta, multiplicación y división utilizando funciones separadas para\n",
        "# cada operación.\n",
        "\n",
        "#Inicio de la calculadora\n",
        "\n",
        "  #Suma\n",
        "def add(N1, N2):\n",
        "  return N1 + N2\n",
        "\n",
        "  #Resta\n",
        "def subtract(N1, N2):\n",
        "  return N1 - N2\n",
        "\n",
        "  #Multi\n",
        "def multiply(N1, N2):\n",
        "  return N1 * N2\n",
        "\n",
        "  #Division\n",
        "def divide(N1, N2):\n",
        "  return N1 / N2\n",
        "\n",
        "def operator_symbol(choice):\n",
        "  operadores = {\n",
        "        '1': '+',\n",
        "        '2': '-',\n",
        "        '3': '*',\n",
        "        '4': '/',\n",
        "  }\n",
        "  return operadores.get(opcion, \"Opcion invalida\")\n",
        "\n",
        "while True:\n",
        "\n",
        "  print(\"¿Que funcion quieres realizar?\")\n",
        "#Variables necesarias\n",
        "  print(\"1. Suma\")\n",
        "  print(\"2. Resta\")\n",
        "  print(\"3. Multiplicacion\")\n",
        "  print(\"4. Division\")\n",
        "  print(\"5. Apagar\")\n",
        "\n",
        "  opcion = input(\"Ingresar el numero de la accion que necesitas (1,2,3,4,5): \")\n",
        "\n",
        "  if opcion == '5':\n",
        "    print(\"Apagando la calculadora\")\n",
        "    break\n",
        "\n",
        "  try:\n",
        "    N1 = float(input(\"Coloca el numero que quieras utilizar \"))\n",
        "    N2 = float(input(\"Coloca el numero que quieras utilizar \"))\n",
        "  except ValueError:\n",
        "    print(\"ERROR, Favor de escribir un numero\")\n",
        "    continue\n",
        "\n",
        "  if opcion == '1':\n",
        "    resultado = add(N1, N2)\n",
        "  elif opcion == '2':\n",
        "    resultado = subtract(N1, N2)\n",
        "  elif opcion == '3':\n",
        "    resultado = multiply(N1, N2)\n",
        "  elif opcion == '4':\n",
        "    resultado = divide(N1, N2)\n",
        "  else:\n",
        "    print(\"Opcion invalida\")\n",
        "    continue\n",
        "    #FINAL\n",
        "  print(f\"{N1} {operator_symbol(opcion)} {N2} = {resultado}\")"
      ],
      "metadata": {
        "id": "bcNaZhEgO_FK",
        "colab": {
          "base_uri": "https://localhost:8080/"
        },
        "outputId": "424dd0c1-a866-44d3-bbc2-1dc8c74c317e"
      },
      "execution_count": 59,
      "outputs": [
        {
          "output_type": "stream",
          "name": "stdout",
          "text": [
            "¿Que funcion quieres realizar?\n",
            "1. Suma\n",
            "2. Resta\n",
            "3. Multiplicacion\n",
            "4. Division\n",
            "5. Apagar\n",
            "Ingresar el numero de la accion que necesitas (1,2,3,4,5): 3\n",
            "Coloca el numero que quieras utilizar 34\n",
            "Coloca el numero que quieras utilizar 52\n",
            "34.0 * 2.0 = 68.0\n",
            "¿Que funcion quieres realizar?\n",
            "1. Suma\n",
            "2. Resta\n",
            "3. Multiplicacion\n",
            "4. Division\n",
            "5. Apagar\n",
            "Ingresar el numero de la accion que necesitas (1,2,3,4,5): 5\n",
            "Apagando la calculadora\n"
          ]
        }
      ]
    },
    {
      "cell_type": "code",
      "source": [
        "\n",
        "def add(num1, num2):\n",
        "  \"\"\"\n",
        "  This function adds two numbers.\n",
        "  \"\"\"\n",
        "  return num1 + num2\n",
        "\n",
        "def subtract(num1, num2):\n",
        "  \"\"\"\n",
        "  This function subtracts two numbers.\n",
        "  \"\"\"\n",
        "  return num1 - num2\n",
        "\n",
        "def multiply(num1, num2):\n",
        "  \"\"\"\n",
        "  This function multiplies two numbers.\n",
        "  \"\"\"\n",
        "  return num1 * num2\n",
        "\n",
        "def divide(num1, num2):\n",
        "  \"\"\"\n",
        "  This function divides two numbers.\n",
        "  \"\"\"\n",
        "  return num1 / num2\n",
        "\n",
        "def operator_symbol(choice):\n",
        "  \"\"\"\n",
        "  This function maps the user's choice to the corresponding operator symbol.\n",
        "  \"\"\"\n",
        "  operators = {\n",
        "    '1': '+',\n",
        "    '2': '-',\n",
        "    '3': '*',\n",
        "    '4': '/',\n",
        "  }\n",
        "  return operators.get(choice, \"Invalid choice\")\n",
        "\n",
        "while True:\n",
        "  \"\"\"\n",
        "  This loop keeps the calculator running until the user exits.\n",
        "  \"\"\"\n",
        "\n",
        "  print(\"Select operation.\")\n",
        "  print(\"1. Add\")\n",
        "  print(\"2. Subtract\")\n",
        "  print(\"3. Multiply\")\n",
        "  print(\"4. Divide\")\n",
        "  print(\"5. Exit\")\n",
        "\n",
        "  # Take input from the user\n",
        "  choice = input(\"Enter choice (1/2/3/4/5): \")\n",
        "\n",
        "  if choice == '5':\n",
        "    print(\"Exiting calculator.\")\n",
        "    break\n",
        "\n",
        "  try:\n",
        "    num1 = float(input(\"Enter first number: \"))\n",
        "    num2 = float(input(\"Enter second number: \"))\n",
        "  except ValueError:\n",
        "    print(\"Invalid input. Please enter a number.\")\n",
        "    continue\n",
        "\n",
        "  if choice == '1':\n",
        "    result = add(num1, num2)\n",
        "  elif choice == '2':\n",
        "    result = subtract(num1, num2)\n",
        "  elif choice == '3':\n",
        "    result = multiply(num1, num2)\n",
        "  elif choice == '4':\n",
        "    result = divide(num1, num2)\n",
        "  else:\n",
        "    print(\"Invalid choice.\")\n",
        "    continue\n",
        "\n",
        "  print(f\"{num1} {operator_symbol(choice)} {num2} = {result}\")\n"
      ],
      "metadata": {
        "colab": {
          "base_uri": "https://localhost:8080/",
          "height": 651
        },
        "id": "JRMWEpZVWvhV",
        "outputId": "b96c8286-62d6-4b86-99dd-5036bb136f07"
      },
      "execution_count": 57,
      "outputs": [
        {
          "output_type": "stream",
          "name": "stdout",
          "text": [
            "Select operation.\n",
            "1. Add\n",
            "2. Subtract\n",
            "3. Multiply\n",
            "4. Divide\n",
            "5. Exit\n",
            "Enter choice (1/2/3/4/5): 2\n",
            "Enter first number: 3\n",
            "Enter second number: 6\n",
            "3.0 - 6.0 = -3.0\n",
            "Select operation.\n",
            "1. Add\n",
            "2. Subtract\n",
            "3. Multiply\n",
            "4. Divide\n",
            "5. Exit\n"
          ]
        },
        {
          "output_type": "error",
          "ename": "KeyboardInterrupt",
          "evalue": "Interrupted by user",
          "traceback": [
            "\u001b[0;31m---------------------------------------------------------------------------\u001b[0m",
            "\u001b[0;31mKeyboardInterrupt\u001b[0m                         Traceback (most recent call last)",
            "\u001b[0;32m<ipython-input-57-a56e1ce9f46a>\u001b[0m in \u001b[0;36m<cell line: 37>\u001b[0;34m()\u001b[0m\n\u001b[1;32m     48\u001b[0m \u001b[0;34m\u001b[0m\u001b[0m\n\u001b[1;32m     49\u001b[0m   \u001b[0;31m# Take input from the user\u001b[0m\u001b[0;34m\u001b[0m\u001b[0;34m\u001b[0m\u001b[0m\n\u001b[0;32m---> 50\u001b[0;31m   \u001b[0mchoice\u001b[0m \u001b[0;34m=\u001b[0m \u001b[0minput\u001b[0m\u001b[0;34m(\u001b[0m\u001b[0;34m\"Enter choice (1/2/3/4/5): \"\u001b[0m\u001b[0;34m)\u001b[0m\u001b[0;34m\u001b[0m\u001b[0;34m\u001b[0m\u001b[0m\n\u001b[0m\u001b[1;32m     51\u001b[0m \u001b[0;34m\u001b[0m\u001b[0m\n\u001b[1;32m     52\u001b[0m   \u001b[0;32mif\u001b[0m \u001b[0mchoice\u001b[0m \u001b[0;34m==\u001b[0m \u001b[0;34m'5'\u001b[0m\u001b[0;34m:\u001b[0m\u001b[0;34m\u001b[0m\u001b[0;34m\u001b[0m\u001b[0m\n",
            "\u001b[0;32m/usr/local/lib/python3.10/dist-packages/ipykernel/kernelbase.py\u001b[0m in \u001b[0;36mraw_input\u001b[0;34m(self, prompt)\u001b[0m\n\u001b[1;32m    849\u001b[0m                 \u001b[0;34m\"raw_input was called, but this frontend does not support input requests.\"\u001b[0m\u001b[0;34m\u001b[0m\u001b[0;34m\u001b[0m\u001b[0m\n\u001b[1;32m    850\u001b[0m             )\n\u001b[0;32m--> 851\u001b[0;31m         return self._input_request(str(prompt),\n\u001b[0m\u001b[1;32m    852\u001b[0m             \u001b[0mself\u001b[0m\u001b[0;34m.\u001b[0m\u001b[0m_parent_ident\u001b[0m\u001b[0;34m,\u001b[0m\u001b[0;34m\u001b[0m\u001b[0;34m\u001b[0m\u001b[0m\n\u001b[1;32m    853\u001b[0m             \u001b[0mself\u001b[0m\u001b[0;34m.\u001b[0m\u001b[0m_parent_header\u001b[0m\u001b[0;34m,\u001b[0m\u001b[0;34m\u001b[0m\u001b[0;34m\u001b[0m\u001b[0m\n",
            "\u001b[0;32m/usr/local/lib/python3.10/dist-packages/ipykernel/kernelbase.py\u001b[0m in \u001b[0;36m_input_request\u001b[0;34m(self, prompt, ident, parent, password)\u001b[0m\n\u001b[1;32m    893\u001b[0m             \u001b[0;32mexcept\u001b[0m \u001b[0mKeyboardInterrupt\u001b[0m\u001b[0;34m:\u001b[0m\u001b[0;34m\u001b[0m\u001b[0;34m\u001b[0m\u001b[0m\n\u001b[1;32m    894\u001b[0m                 \u001b[0;31m# re-raise KeyboardInterrupt, to truncate traceback\u001b[0m\u001b[0;34m\u001b[0m\u001b[0;34m\u001b[0m\u001b[0m\n\u001b[0;32m--> 895\u001b[0;31m                 \u001b[0;32mraise\u001b[0m \u001b[0mKeyboardInterrupt\u001b[0m\u001b[0;34m(\u001b[0m\u001b[0;34m\"Interrupted by user\"\u001b[0m\u001b[0;34m)\u001b[0m \u001b[0;32mfrom\u001b[0m \u001b[0;32mNone\u001b[0m\u001b[0;34m\u001b[0m\u001b[0;34m\u001b[0m\u001b[0m\n\u001b[0m\u001b[1;32m    896\u001b[0m             \u001b[0;32mexcept\u001b[0m \u001b[0mException\u001b[0m \u001b[0;32mas\u001b[0m \u001b[0me\u001b[0m\u001b[0;34m:\u001b[0m\u001b[0;34m\u001b[0m\u001b[0;34m\u001b[0m\u001b[0m\n\u001b[1;32m    897\u001b[0m                 \u001b[0mself\u001b[0m\u001b[0;34m.\u001b[0m\u001b[0mlog\u001b[0m\u001b[0;34m.\u001b[0m\u001b[0mwarning\u001b[0m\u001b[0;34m(\u001b[0m\u001b[0;34m\"Invalid Message:\"\u001b[0m\u001b[0;34m,\u001b[0m \u001b[0mexc_info\u001b[0m\u001b[0;34m=\u001b[0m\u001b[0;32mTrue\u001b[0m\u001b[0;34m)\u001b[0m\u001b[0;34m\u001b[0m\u001b[0;34m\u001b[0m\u001b[0m\n",
            "\u001b[0;31mKeyboardInterrupt\u001b[0m: Interrupted by user"
          ]
        }
      ]
    }
  ]
}