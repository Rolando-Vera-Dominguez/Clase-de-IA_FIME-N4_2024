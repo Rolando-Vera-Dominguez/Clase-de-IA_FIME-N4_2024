{
  "nbformat": 4,
  "nbformat_minor": 0,
  "metadata": {
    "colab": {
      "provenance": []
    },
    "kernelspec": {
      "name": "python3",
      "display_name": "Python 3"
    },
    "language_info": {
      "name": "python"
    }
  },
  "cells": [
    {
      "cell_type": "markdown",
      "source": [
        "EjercicioPython_1\n",
        "Rolando Vera Dominguez #2005010 IMTC  Hora: N4-N6"
      ],
      "metadata": {
        "id": "J96PcxYkIpS6"
      }
    },
    {
      "cell_type": "code",
      "execution_count": null,
      "metadata": {
        "id": "ax6MOJ5-JWLS",
        "colab": {
          "base_uri": "https://localhost:8080/"
        },
        "outputId": "079e37e6-6da2-42b6-b966-64361385f933"
      },
      "outputs": [
        {
          "output_type": "stream",
          "name": "stdout",
          "text": [
            "Introduce tu nombre: Rolando\n",
            "Hola Rolando!\n"
          ]
        }
      ],
      "source": [
        "# \"Primer algoritmo\"\n",
        "# 1.- Desarrolla un algoritmo que le pida al usuario por su nombre\n",
        "# y que lo salude con su nombre, excepto si se llama “Ana”, “Juan”, y “Pedro”\n",
        "\n",
        "#Inicio\n",
        "Nombre = input(\"Introduce tu nombre: \")\n",
        "excluir_nombre = [\"Ana\",\"Juan\",\"Pedro\"]\n",
        "if Nombre not in excluir_nombre:\n",
        "   print(f\"Hola \" + Nombre + \"!\")\n",
        "   #Si se llama \"Ana, Juan o Pedro\" no lo saludara\n",
        "else:\n",
        "   print(\"Lo lamento pero no te puedo saludar :C\")\n"
      ]
    },
    {
      "cell_type": "code",
      "source": [
        "# \"Segundo algoritmo\"\n",
        "# 2.- Desarrolla un algoritmo que por medio de una función, le pida al usuario\n",
        "# una lista de N elementos y como resultado invierta el sentido de la lista.\n",
        "\n",
        "#Inicio\n",
        "numero = int(input(\"Ingrese el número de elementos que quiere que conforme la lista: \"))\n",
        "lista = []\n",
        "print(\"Ingresa los numeros de a la lista: \")\n",
        "for i in range(numero):\n",
        "      elemento = input(\"Elemento {}: \".format(i+1))\n",
        "      lista.append(elemento)\n",
        "\n",
        "lista_invertida = lista[::-1]\n",
        "\n",
        "print(\"Lista invertida: \", lista_invertida)"
      ],
      "metadata": {
        "id": "8x9FM7-rNrxH",
        "colab": {
          "base_uri": "https://localhost:8080/"
        },
        "outputId": "c67055d2-e171-4ae0-be44-b05850fa1dc8"
      },
      "execution_count": 1,
      "outputs": [
        {
          "output_type": "stream",
          "name": "stdout",
          "text": [
            "Ingrese el número de elementos que quiere que conforme la lista: 5\n",
            "Ingresa los numeros de a la lista: \n",
            "Elemento 1: Manzanas\n",
            "Elemento 2: Platano\n",
            "Elemento 3: Papas\n",
            "Elemento 4: Tomate\n",
            "Elemento 5: Queso\n",
            "Lista invertida:  ['Queso', 'Tomate', 'Papas', 'Platano', 'Manzanas']\n"
          ]
        }
      ]
    },
    {
      "cell_type": "code",
      "source": [
        "# \"Tercer Algoritmo\"\n",
        "# Desarrolla un algoritmo que le pregunte al usuario cuántos números\n",
        "# de la serie de Fibonacci quiere generar y que al final los imprima.\n",
        "\n",
        "#Inicio\n",
        "#Zona principal\n",
        "def fibonacci(n):\n",
        "  serie_fibonacci = []\n",
        "  a, b = 0, 1\n",
        "  for _ in range (n):\n",
        "    serie_fibonacci.append (a)\n",
        "    a, b = b, a + b\n",
        "  return serie_fibonacci\n",
        "\n",
        "#Zona final\n",
        "def main():\n",
        "  print(\"********INSTRUCCIONES********\")\n",
        "  n = int(input(\"Ingrese cuantos numeros requiere para realizar la serie de Fibonacci: \"))\n",
        "  if n <= 0:\n",
        "      print(\"Ingrese un numero con valor positivo\")\n",
        "  else:\n",
        "    serie_fibonacci = fibonacci(n)\n",
        "    print(\"Serie de Fibonacci con {} números:\".format(n))\n",
        "    print(serie_fibonacci)\n",
        "\n",
        "main()"
      ],
      "metadata": {
        "id": "E0t_IEcdOO_J",
        "colab": {
          "base_uri": "https://localhost:8080/"
        },
        "outputId": "1306aee2-93c0-499b-bec0-d18544f58afa"
      },
      "execution_count": null,
      "outputs": [
        {
          "output_type": "stream",
          "name": "stdout",
          "text": [
            "********INSTRUCCIONES********\n",
            "Ingrese cuantos numeros requiere para realizar la serie de Fibonacci: 6\n",
            "Serie de Fibonacci con 6 números:\n",
            "[0, 1, 1, 2, 3, 5]\n"
          ]
        }
      ]
    },
    {
      "cell_type": "code",
      "source": [
        "# \"Cuarto Algoritmo\"\n",
        "# Juego de adivinar el número: Crea un programa que genere un número aleatorio entre 1 y 100,\n",
        "# y luego le pida al usuario que adivine el número. El programa debe proporcionar pistas\n",
        "# al usuario si el número es mayor o menor que el número objetivo, y seguir solicitando\n",
        "# un nuevo intento hasta que el usuario adivine correctamente.\n",
        "\n",
        "#Inicio\n",
        "\n",
        "import random\n",
        "num_ale = random.randint(1, 100)\n",
        "intentos = 0\n",
        "print(\"Empecemos un juego divertido\")\n",
        "print(\"Adivina adivinador un número que este entre el 1 y 100\")\n",
        "\n",
        "#Desarollo\n",
        "while True:\n",
        "  intento = int(input(\"Ingresa un número: \"))\n",
        "  intentos += 1\n",
        "\n",
        "  if intento < num_ale:\n",
        "    print(\"El número es MAYOR, sigue intentado ya casi lo tienes ;)\")\n",
        "  elif intento > num_ale:\n",
        "    print(\"El número es MENOR, aun te falta sigue probando\")\n",
        "  else:\n",
        "    print(\" ¡Felicidades lograste adivinar el número {} en tan solo {} intentos! \".format(num_ale, intentos))\n",
        "    break\n"
      ],
      "metadata": {
        "id": "SvjEaqgAOadV",
        "colab": {
          "base_uri": "https://localhost:8080/"
        },
        "outputId": "a4ca67c7-d20d-46ce-90ae-12ffa57e0baa"
      },
      "execution_count": null,
      "outputs": [
        {
          "output_type": "stream",
          "name": "stdout",
          "text": [
            "Empecemos un juego divertido\n",
            "Adivina adivinador un número que este entre el 1 y 100\n",
            "Ingresa un número: 5\n",
            "El número es MAYOR, sigue intentado ya casi lo tienes ;)\n",
            "Ingresa un número: 8\n",
            "El número es MAYOR, sigue intentado ya casi lo tienes ;)\n",
            "Ingresa un número: 90\n",
            "El número es MENOR, aun te falta sigue probando\n",
            "Ingresa un número: 4\n",
            "El número es MAYOR, sigue intentado ya casi lo tienes ;)\n",
            "Ingresa un número: 45\n",
            "El número es MENOR, aun te falta sigue probando\n",
            "Ingresa un número: 34\n",
            "El número es MENOR, aun te falta sigue probando\n",
            "Ingresa un número: 24\n",
            "El número es MENOR, aun te falta sigue probando\n",
            "Ingresa un número: 14\n",
            "El número es MAYOR, sigue intentado ya casi lo tienes ;)\n",
            "Ingresa un número: 16\n",
            "El número es MAYOR, sigue intentado ya casi lo tienes ;)\n",
            "Ingresa un número: 18\n",
            "El número es MAYOR, sigue intentado ya casi lo tienes ;)\n",
            "Ingresa un número: 20\n",
            "El número es MAYOR, sigue intentado ya casi lo tienes ;)\n",
            "Ingresa un número: 23\n",
            " ¡Adivinaste el número 23 en 12 intentos! \n"
          ]
        }
      ]
    },
    {
      "cell_type": "code",
      "source": [
        "# \"Quinto Algoritmo\"\n",
        "# Ejercicio de cálculo de números primos en un rango dado: Escribe un programa que solicite\n",
        "# al usuario un rango de números y muestre todos los números primos dentro de ese rango.\n",
        "\n",
        "#Inicio\n",
        "print(\"********INSTRUCCIONES********\")\n",
        "print(\"El inicio del rango debera de ser menor o igual que al del final del rango\")\n",
        "i_rango = int(input(\"Ingresa el inicio del rango: \"))\n",
        "f_rango = int(input(\"Ingresa el final del rango: \"))\n",
        "\n",
        "if i_rango > f_rango:\n",
        " print(\"FAVOR DE ACATAR LAS INSTRUCCIONES PARA QUE ASI FUNCIONE EL PROGRAMA\")\n",
        "else:\n",
        "  print(f\"Los numeros que estan dentro de los rangos son de {i_rango} a {f_rango}:\")\n",
        "for num in range(i_rango, f_rango + 1):\n",
        " if num > 1:\n",
        "  es_primo = True\n",
        "for i in range(2, int(num**0.5) + 1):\n",
        " if num % i == 0:\n",
        "  es_primo = False\n",
        "  break\n",
        " if es_primo:\n",
        "  print(num)"
      ],
      "metadata": {
        "id": "8S0iUfiiOu5U",
        "colab": {
          "base_uri": "https://localhost:8080/"
        },
        "outputId": "524539ed-5c8b-46c8-97be-262bbd561084"
      },
      "execution_count": null,
      "outputs": [
        {
          "output_type": "stream",
          "name": "stdout",
          "text": [
            "********INSTRUCCIONES********\n",
            "El inicio del rango debera de ser menor o igual que al del final del rango\n",
            "Ingresa el inicio del rango: 67\n",
            "Ingresa el final del rango: 56\n",
            "FAVOR DE ACATAR LAS INSTRUCCIONES PARA QUE ASI FUNCIONE EL PROGRAMA\n"
          ]
        }
      ]
    },
    {
      "cell_type": "code",
      "source": [
        "# \"Sexto Algoritmo\"\n",
        "# Ejercicio de implementación de una calculadora básica utilizando funciones:\n",
        "# Escribe un programa que solicite al usuario dos números y realice operaciones básicas\n",
        "# como suma, resta, multiplicación y división utilizando funciones separadas para\n",
        "# cada operación.\n",
        "\n",
        "#Inicio de la calculadora\n",
        "\n",
        "  #Suma\n",
        "def suma(N1, N2):\n",
        "  return N1 + N2\n",
        "\n",
        "  #Resta\n",
        "def resta(N1, N2):\n",
        "  return N1 - N2\n",
        "\n",
        "  #Multi\n",
        "def multiplicacion(N1, N2):\n",
        "  return N1 * N2\n",
        "\n",
        "  #Division\n",
        "def division(N1, N2):\n",
        "  return N1 / N2\n",
        "\n",
        "def operador_simbolos(choice):\n",
        "  operadores = {\n",
        "        '1': '+',\n",
        "        '2': '-',\n",
        "        '3': '*',\n",
        "        '4': '/',\n",
        "  }\n",
        "  return operadores.get(opcion, \"Opcion invalida\")\n",
        "\n",
        "while True:\n",
        "  print(\"¿Que funcion quieres realizar?\")\n",
        "#Variables necesarias\n",
        "  print(\"1. Suma\")\n",
        "  print(\"2. Resta\")\n",
        "  print(\"3. Multiplicacion\")\n",
        "  print(\"4. Division\")\n",
        "  print(\"5. Apagar\")\n",
        "\n",
        "  opcion = input(\"Ingresar el numero de la accion que necesitas (1,2,3,4,5): \")\n",
        "\n",
        "  if opcion == '5':\n",
        "    print(\"Apagando la calculadora\")\n",
        "    break\n",
        "\n",
        "  try:\n",
        "    N1 = float(input(\"Coloca el numero que quieras utilizar \"))\n",
        "    N2 = float(input(\"Coloca el numero que quieras utilizar \"))\n",
        "  except ValueError:\n",
        "    print(\"ERROR, Favor de escribir un numero\")\n",
        "    continue\n",
        "#Instrucciones de la selecion para suma,resta,division o division\n",
        "  if opcion == '1':\n",
        "    resultado = suma(N1, N2)\n",
        "  elif opcion == '2':\n",
        "    resultado = resta(N1, N2)\n",
        "  elif opcion == '3':\n",
        "    resultado = multiplicacion(N1, N2)\n",
        "  elif opcion == '4':\n",
        "    resultado = division(N1, N2)\n",
        "  else:\n",
        "    print(\"Opcion invalida\")\n",
        "    continue\n",
        "    #FINAL\n",
        "  print(f\"{N1} {operador_simbolos(opcion)} {N2} = {resultado}\")"
      ],
      "metadata": {
        "id": "bcNaZhEgO_FK",
        "colab": {
          "base_uri": "https://localhost:8080/"
        },
        "outputId": "c3643da6-1643-43bb-df61-a0467fdf050f"
      },
      "execution_count": null,
      "outputs": [
        {
          "output_type": "stream",
          "name": "stdout",
          "text": [
            "¿Que funcion quieres realizar?\n",
            "1. Suma\n",
            "2. Resta\n",
            "3. Multiplicacion\n",
            "4. Division\n",
            "5. Apagar\n",
            "Ingresar el numero de la accion que necesitas (1,2,3,4,5): 1\n",
            "Coloca el numero que quieras utilizar 45\n",
            "Coloca el numero que quieras utilizar 5\n",
            "45.0 + 5.0 = 50.0\n",
            "¿Que funcion quieres realizar?\n",
            "1. Suma\n",
            "2. Resta\n",
            "3. Multiplicacion\n",
            "4. Division\n",
            "5. Apagar\n",
            "Ingresar el numero de la accion que necesitas (1,2,3,4,5): 2\n",
            "Coloca el numero que quieras utilizar 56\n",
            "Coloca el numero que quieras utilizar 1\n",
            "56.0 - 1.0 = 55.0\n",
            "¿Que funcion quieres realizar?\n",
            "1. Suma\n",
            "2. Resta\n",
            "3. Multiplicacion\n",
            "4. Division\n",
            "5. Apagar\n",
            "Ingresar el numero de la accion que necesitas (1,2,3,4,5): 3\n",
            "Coloca el numero que quieras utilizar 5\n",
            "Coloca el numero que quieras utilizar 5\n",
            "5.0 * 5.0 = 25.0\n",
            "¿Que funcion quieres realizar?\n",
            "1. Suma\n",
            "2. Resta\n",
            "3. Multiplicacion\n",
            "4. Division\n",
            "5. Apagar\n",
            "Ingresar el numero de la accion que necesitas (1,2,3,4,5): 4\n",
            "Coloca el numero que quieras utilizar 7\n",
            "Coloca el numero que quieras utilizar 3\n",
            "7.0 / 3.0 = 2.3333333333333335\n",
            "¿Que funcion quieres realizar?\n",
            "1. Suma\n",
            "2. Resta\n",
            "3. Multiplicacion\n",
            "4. Division\n",
            "5. Apagar\n",
            "Ingresar el numero de la accion que necesitas (1,2,3,4,5): 5\n",
            "Apagando la calculadora\n"
          ]
        }
      ]
    }
  ]
}