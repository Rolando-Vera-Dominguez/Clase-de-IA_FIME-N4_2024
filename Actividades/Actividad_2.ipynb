{
  "nbformat": 4,
  "nbformat_minor": 0,
  "metadata": {
    "colab": {
      "provenance": [],
      "authorship_tag": "ABX9TyOvLHxj2yaSNq7kYGGgiu1y",
      "include_colab_link": true
    },
    "kernelspec": {
      "name": "python3",
      "display_name": "Python 3"
    },
    "language_info": {
      "name": "python"
    }
  },
  "cells": [
    {
      "cell_type": "markdown",
      "metadata": {
        "id": "view-in-github",
        "colab_type": "text"
      },
      "source": [
        "<a href=\"https://colab.research.google.com/github/Rolando-Vera-Dominguez/Clase-de-IA_FIME-N4_2024/blob/main/Actividad_2.ipynb\" target=\"_parent\"><img src=\"https://colab.research.google.com/assets/colab-badge.svg\" alt=\"Open In Colab\"/></a>"
      ]
    },
    {
      "cell_type": "code",
      "execution_count": null,
      "metadata": {
        "colab": {
          "base_uri": "https://localhost:8080/"
        },
        "id": "ax6MOJ5-JWLS",
        "outputId": "9a59d136-3bd3-44fc-9421-0508e10b59fe"
      },
      "outputs": [
        {
          "output_type": "stream",
          "name": "stdout",
          "text": [
            "Introduce tu nombre: Rolando\n",
            "Hola Rolando!\n"
          ]
        }
      ],
      "source": [
        "# \"Primer algoritmo\"\n",
        "# 1.- Desarrolla un algoritmo que le pida al usuario por su nombre\n",
        "# y que lo salude con su nombre, excepto si se llama “Ana”, “Juan”, y “Pedro”\n",
        "\n",
        "#Inicio\n",
        "Nombre = input(\"Introduce tu nombre: \")\n",
        "excluded_names = [\"Ana\",\"Juan\",\"Pedro\"]\n",
        "if Nombre not in excluded_names:\n",
        "   print(f\"Hola \" + Nombre + \"!\")\n",
        "   #Si se llama \"Ana, Juan o Pedro\" no lo saludara\n",
        "else:\n",
        "   print(\"Lo lamento pero no te puedo saludar :C\")\n"
      ]
    },
    {
      "cell_type": "code",
      "source": [
        "# \"Segundo algoritmo\"\n",
        "# 2.- Desarrolla un algoritmo que por medio de una función, le pida al usuario\n",
        "# una lista de N elementos y como resultado invierta el sentido de la lista.\n"
      ],
      "metadata": {
        "id": "8x9FM7-rNrxH"
      },
      "execution_count": null,
      "outputs": []
    },
    {
      "cell_type": "code",
      "source": [
        "# \"Tercer Algoritmo\"\n",
        "#Desarrolla un algoritmo que le pregunte al usuario cuántos números\n",
        "# de la serie de Fibonacci quiere generar y que al final los imprima."
      ],
      "metadata": {
        "id": "E0t_IEcdOO_J"
      },
      "execution_count": null,
      "outputs": []
    },
    {
      "cell_type": "code",
      "source": [
        "# \"Cuarto Algoritmo\"\n",
        "# Juego de adivinar el número: Crea un programa que genere un número aleatorio entre 1 y 100,\n",
        "# y luego le pida al usuario que adivine el número. El programa debe proporcionar pistas\n",
        "# al usuario si el número es mayor o menor que el número objetivo, y seguir solicitando\n",
        "# un nuevo intento hasta que el usuario adivine correctamente.\n",
        "\n"
      ],
      "metadata": {
        "id": "SvjEaqgAOadV"
      },
      "execution_count": null,
      "outputs": []
    },
    {
      "cell_type": "code",
      "source": [
        "# \"Quinto Algoritmo\"\n",
        "# Ejercicio de cálculo de números primos en un rango dado: Escribe un programa que solicite\n",
        "# al usuario un rango de números y muestre todos los números primos dentro de ese rango.\n"
      ],
      "metadata": {
        "id": "8S0iUfiiOu5U"
      },
      "execution_count": null,
      "outputs": []
    },
    {
      "cell_type": "code",
      "source": [
        "# \"Sexto Algoritmo\"\n",
        "# Ejercicio de implementación de una calculadora básica utilizando funciones:\n",
        "# Escribe un programa que solicite al usuario dos números y realice operaciones básicas\n",
        "# como suma, resta, multiplicación y división utilizando funciones separadas para\n",
        "# cada operación.\n",
        "\n",
        "#Inicio de la calculadora\n",
        "\n",
        "  #Suma\n",
        "def add(N1, N2):\n",
        "  return N1 + N2\n",
        "\n",
        "  #Resta\n",
        "def subtract(N1, N2):\n",
        "  return N1 - N2\n",
        "\n",
        "  #Multi\n",
        "def multiply(N1, N2):\n",
        "  return N1 * N2\n",
        "\n",
        "  #Division\n",
        "def divide(N1, N2):\n",
        "  return N1 / N2\n",
        "\n",
        "def operator_symbol(choice):\n",
        "  operadores = {\n",
        "        '1': '+',\n",
        "        '2': '-',\n",
        "        '3': '*',\n",
        "        '4': '/',\n",
        "  }\n",
        "  return operadores.get(opcion, \"Opcion invalida\")\n",
        "\n",
        "while True:\n",
        "\n",
        "  print(\"¿Que funcion quieres realizar?\")\n",
        "#Variables necesarias\n",
        "  print(\"1. Suma\")\n",
        "  print(\"2. Resta\")\n",
        "  print(\"3. Multiplicacion\")\n",
        "  print(\"4. Division\")\n",
        "  print(\"5. Apagar\")\n",
        "\n",
        "  opcion = input(\"Ingresar el numero de la accion que necesitas (1,2,3,4,5): \")\n",
        "\n",
        "  if opcion == '5':\n",
        "    print(\"Apagando la calculadora\")\n",
        "    break\n",
        "\n",
        "  try:\n",
        "    N1 = float(input(\"Coloca el numero que quieras utilizar \"))\n",
        "    N2 = float(input(\"Coloca el numero que quieras utilizar \"))\n",
        "  except ValueError:\n",
        "    print(\"ERROR, Favor de escribir un numero\")\n",
        "    continue\n",
        "\n",
        "  if opcion == '1':\n",
        "    resultado = add(N1, N2)\n",
        "  elif opcion == '2':\n",
        "    resultado = subtract(N1, N2)\n",
        "  elif opcion == '3':\n",
        "    resultado = multiply(N1, N2)\n",
        "  elif opcion == '4':\n",
        "    resultado = divide(N1, N2)\n",
        "  else:\n",
        "    print(\"Opcion invalida\")\n",
        "    continue\n",
        "    #FINAL\n",
        "  print(f\"{N1} {operator_symbol(opcion)} {N2} = {resultado}\")"
      ],
      "metadata": {
        "id": "bcNaZhEgO_FK",
        "colab": {
          "base_uri": "https://localhost:8080/"
        },
        "outputId": "424dd0c1-a866-44d3-bbc2-1dc8c74c317e"
      },
      "execution_count": 59,
      "outputs": [
        {
          "output_type": "stream",
          "name": "stdout",
          "text": [
            "¿Que funcion quieres realizar?\n",
            "1. Suma\n",
            "2. Resta\n",
            "3. Multiplicacion\n",
            "4. Division\n",
            "5. Apagar\n",
            "Ingresar el numero de la accion que necesitas (1,2,3,4,5): 3\n",
            "Coloca el numero que quieras utilizar 34\n",
            "Coloca el numero que quieras utilizar 52\n",
            "34.0 * 2.0 = 68.0\n",
            "¿Que funcion quieres realizar?\n",
            "1. Suma\n",
            "2. Resta\n",
            "3. Multiplicacion\n",
            "4. Division\n",
            "5. Apagar\n",
            "Ingresar el numero de la accion que necesitas (1,2,3,4,5): 5\n",
            "Apagando la calculadora\n"
          ]
        }
      ]
    }
  ]
}